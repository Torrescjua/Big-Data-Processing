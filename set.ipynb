{
 "cells": [
  {
   "cell_type": "markdown",
   "metadata": {},
   "source": [
    "# **Procesamiento de Datos a Gran Escala: Examen sobre Conjuntos en Python**\n",
    "\n",
    "### **ID del Estudiante:** 20485603\n",
    "\n",
    "### **Autor:** _Juan D. Torres Chaparro B.Eng_"
   ]
  },
  {
   "cell_type": "markdown",
   "metadata": {},
   "source": [
    "## **Sección de Práctica del Examen**  \n",
    "\n",
    "Esta sección contiene una serie de preguntas de examen diseñadas para evaluar la comprensión de las operaciones con conjuntos en Python. Cada pregunta está acompañada de una solución detallada y una explicación para garantizar que comprendas los conceptos de manera efectiva.\n",
    "\n",
    "### **Preguntas y Soluciones del Examen**  \n",
    "\n",
    "- **Manipulación Básica de Conjuntos**  \n",
    "  - Creación y transformación de listas en conjuntos  \n",
    "  - Eliminación de elementos duplicados  \n",
    "\n",
    "- **Operaciones con Conjuntos**  \n",
    "  - Agregar y eliminar elementos en un conjunto  \n",
    "  - Verificación de pertenencia dentro de un conjunto  \n",
    "\n",
    "- **Operaciones Lógicas con Conjuntos**  \n",
    "  - Unión de conjuntos  \n",
    "  - Intersección de conjuntos  \n",
    "  - Diferencia y diferencia simétrica entre conjuntos  \n",
    "  - Verificación de subconjuntos y superconjuntos  "
   ]
  },
  {
   "cell_type": "markdown",
   "metadata": {},
   "source": [
    "## **Solución de Exámen**"
   ]
  },
  {
   "cell_type": "markdown",
   "metadata": {},
   "source": [
    "1. Transformar la lista <code>['rap','house','electronic music', 'rap']</code> en un conjunto:"
   ]
  },
  {
   "cell_type": "code",
   "execution_count": 3,
   "metadata": {},
   "outputs": [
    {
     "data": {
      "text/plain": [
       "{'electronic music', 'house', 'rap'}"
      ]
     },
     "execution_count": 3,
     "metadata": {},
     "output_type": "execute_result"
    }
   ],
   "source": [
    "# Escribe abajo tu código y presiona Shift+Enter para ejecutarlo\n",
    "\n",
    "a_list = ['rap','house','electronic music','rap']\n",
    "set(a_list)"
   ]
  },
  {
   "cell_type": "markdown",
   "metadata": {},
   "source": [
    "2. Considera que la lista <code>A = [1, 2, 2, 1]</code> y el conjunto <code>B = set([1, 2, 2, 1])</code> suman <code>sum(A) = sum(B)</code>"
   ]
  },
  {
   "cell_type": "code",
   "execution_count": 6,
   "metadata": {},
   "outputs": [
    {
     "name": "stdout",
     "output_type": "stream",
     "text": [
      "La suma de A es: 6\n",
      "La suma de B es: 3\n"
     ]
    }
   ],
   "source": [
    "# Escribe abajo tu código y presiona Shift+Enter para ejecutarlo\n",
    "\n",
    "A = [1, 2, 2, 1]  \n",
    "B = set([1, 2, 2, 1])\n",
    "print(\"La suma de A es:\", sum(A))\n",
    "print(\"La suma de B es:\", sum(B)) #Aqui se sumara los valores unicos"
   ]
  },
  {
   "cell_type": "markdown",
   "metadata": {},
   "source": [
    "3. Crea un nuevo conjunto <code>album_set3</code> que sea la unión de <code>album_set1</code> y <code>album_set2</code>:"
   ]
  },
  {
   "cell_type": "code",
   "execution_count": 8,
   "metadata": {},
   "outputs": [
    {
     "data": {
      "text/plain": [
       "{'AC/DC', 'Back in Black', 'The Dark Side of the Moon', 'Thriller'}"
      ]
     },
     "execution_count": 8,
     "metadata": {},
     "output_type": "execute_result"
    }
   ],
   "source": [
    "# Escribe abajo tu código y presiona Shift+Enter para ejecutarlo\n",
    "\n",
    "album_set1 = set([\"Thriller\", 'AC/DC', 'Back in Black'])\n",
    "album_set2 = set([ \"AC/DC\", \"Back in Black\", \"The Dark Side of the Moon\"])\n",
    "\n",
    "#Crear album_set3\n",
    "\n",
    "album_set3 = album_set1.union(album_set2)\n",
    "album_set3"
   ]
  },
  {
   "cell_type": "markdown",
   "metadata": {},
   "source": [
    "4. Averigua si <code>album_set1</code> es un subconjunto de <code>album_set3</code>:"
   ]
  },
  {
   "cell_type": "code",
   "execution_count": 11,
   "metadata": {},
   "outputs": [
    {
     "name": "stdout",
     "output_type": "stream",
     "text": [
      "album_set1 ⊂ album_set3\n"
     ]
    }
   ],
   "source": [
    "# Escribe abajo tu código y presiona Shift+Enter para ejecutarlo\n",
    "\n",
    "if album_set1.issubset(album_set3):\n",
    "    print(\"album_set1 ⊂ album_set3\")\n",
    "else:\n",
    "    print(\"album_set1 ⊄ album_set3\")"
   ]
  }
 ],
 "metadata": {
  "kernelspec": {
   "display_name": "Python 3",
   "language": "python",
   "name": "python3"
  },
  "language_info": {
   "codemirror_mode": {
    "name": "ipython",
    "version": 3
   },
   "file_extension": ".py",
   "mimetype": "text/x-python",
   "name": "python",
   "nbconvert_exporter": "python",
   "pygments_lexer": "ipython3",
   "version": "3.11.2"
  }
 },
 "nbformat": 4,
 "nbformat_minor": 2
}
