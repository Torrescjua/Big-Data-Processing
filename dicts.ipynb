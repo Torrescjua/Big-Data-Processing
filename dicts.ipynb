{
 "cells": [
  {
   "cell_type": "markdown",
   "metadata": {},
   "source": [
    "# **Procesamiento de Datos a Gran Escala: Examen sobre Diccionarios en Python**\n",
    "\n",
    "### **ID del Estudiante:** 20485603\n",
    "  \n",
    "### **Autor:** _Juan D. Torres Chaparro B.Eng_  \n",
    "\n",
    "---"
   ]
  },
  {
   "cell_type": "markdown",
   "metadata": {},
   "source": [
    "## **Sección de Práctica del Examen**  \n",
    "\n",
    "Esta sección contiene una serie de preguntas de examen diseñadas para evaluar la comprensión de las operaciones con diccionarios en Python. Cada pregunta está acompañada de una solución detallada y una explicación para garantizar que comprendas los conceptos de manera efectiva.\n",
    "\n",
    "### **Preguntas y Soluciones del Examen**  \n",
    "\n",
    "- **Estructura y Manipulación de Diccionarios**  \n",
    "  - Creación de diccionarios  \n",
    "  - Acceso a valores mediante llaves  \n",
    "\n",
    "- **Operaciones con Diccionarios**  \n",
    "  - Obtener todas las llaves de un diccionario  \n",
    "  - Obtener todos los valores de un diccionario  \n",
    "  - Agregar nuevas entradas a un diccionario  \n",
    "  - Eliminar elementos del diccionario  \n",
    "  - Verificación de la existencia de una llave dentro del diccionario\n",
    "\n",
    "--- "
   ]
  },
  {
   "cell_type": "markdown",
   "metadata": {},
   "source": []
  }
 ],
 "metadata": {
  "language_info": {
   "name": "python"
  }
 },
 "nbformat": 4,
 "nbformat_minor": 2
}
