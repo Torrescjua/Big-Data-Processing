{
 "cells": [
  {
   "cell_type": "markdown",
   "metadata": {},
   "source": [
    "# **Procesamiento de Datos a Gran Escala: Examen sobre Tuplas en Python**\n",
    "\n",
    "### **ID del Estudiante:** 20485603\n",
    "\n",
    "### **Autor:** _Juan D. Torres Chaparro B.Eng_"
   ]
  },
  {
   "cell_type": "markdown",
   "metadata": {},
   "source": [
    "## **Sección de Práctica del Examen**\n",
    "\n",
    "Esta sección contiene una serie de preguntas diseñadas para evaluar tu comprensión de las operaciones con tuplas en Python. Cada pregunta está acompañada de una solución detallada para asegurar que comprendas los conceptos clave.\n",
    "\n",
    "### **Preguntas y Soluciones del Examen**  \n",
    "\n",
    "- **Manipulación Básica de Tuplas**  \n",
    "  - Creación y asignación de tuplas  \n",
    "  - Acceso a elementos dentro de una tupla  \n",
    "\n",
    "- **Indexación y Segmentación**  \n",
    "  - Acceso a elementos mediante índices positivos y negativos  \n",
    "  - Extracción de subconjuntos mediante _slicing_  \n",
    "\n",
    "- **Métodos y Operaciones con Tuplas**  \n",
    "  - Concatenación y repetición de tuplas  \n",
    "  - Ordenamiento de elementos en una nueva estructura  \n",
    "  - Búsqueda de elementos dentro de una tupla"
   ]
  },
  {
   "cell_type": "markdown",
   "metadata": {},
   "source": [
    "## **Solución de Examén**"
   ]
  },
  {
   "cell_type": "markdown",
   "metadata": {},
   "source": [
    "1. Considérese la siguiente tupla:\n",
    "    + Datos de carga"
   ]
  },
  {
   "cell_type": "code",
   "execution_count": 10,
   "metadata": {},
   "outputs": [
    {
     "data": {
      "text/plain": [
       "('pop',\n",
       " 'rock',\n",
       " 'soul',\n",
       " 'hard rock',\n",
       " 'soft rock',\n",
       " 'R&B',\n",
       " 'progressive rock',\n",
       " 'disco')"
      ]
     },
     "execution_count": 10,
     "metadata": {},
     "output_type": "execute_result"
    }
   ],
   "source": [
    "# Tupla de ejemplo\n",
    "\n",
    "genres_tuple = (\"pop\", \"rock\", \"soul\", \"hard rock\", \"soft rock\", \\\n",
    "                \"R&B\", \"progressive rock\", \"disco\") \n",
    "genres_tuple"
   ]
  },
  {
   "cell_type": "markdown",
   "metadata": {},
   "source": [
    "2. Encontrar la longitud de la tupla, <code>genres_tuple</code>:"
   ]
  },
  {
   "cell_type": "code",
   "execution_count": 11,
   "metadata": {},
   "outputs": [
    {
     "data": {
      "text/plain": [
       "8"
      ]
     },
     "execution_count": 11,
     "metadata": {},
     "output_type": "execute_result"
    }
   ],
   "source": [
    "# Escribe abajo tu código y presiona Shift+Enter para ejecutarlo\n",
    "\n",
    "len(genres_tuple) # Usando función len() para ver la cantidad de elementos que tiene la tupla "
   ]
  },
  {
   "cell_type": "markdown",
   "metadata": {},
   "source": [
    "3. Accede al elemento en el índice 3:"
   ]
  },
  {
   "cell_type": "code",
   "execution_count": 12,
   "metadata": {},
   "outputs": [
    {
     "data": {
      "text/plain": [
       "'hard rock'"
      ]
     },
     "execution_count": 12,
     "metadata": {},
     "output_type": "execute_result"
    }
   ],
   "source": [
    "# Escribe abajo tu código y presiona Shift+Enter para ejecutarlo\n",
    "\n",
    "genres_tuple[3] #Imprimir el valor del índice 3 de la tupla 'genres_tuple'"
   ]
  },
  {
   "cell_type": "markdown",
   "metadata": {},
   "source": [
    "4. Utiliza el slicing para obtener los índices 3, 4 y 5:"
   ]
  },
  {
   "cell_type": "code",
   "execution_count": 13,
   "metadata": {},
   "outputs": [
    {
     "data": {
      "text/plain": [
       "('hard rock', 'soft rock', 'R&B')"
      ]
     },
     "execution_count": 13,
     "metadata": {},
     "output_type": "execute_result"
    }
   ],
   "source": [
    "# Escribe abajo tu código y presiona Shift+Enter para ejecutarlo\n",
    "\n",
    "genres_tuple[3:6] #Imprimir valores de la tupla 'genres_tuple' desde el indice [3]...[5] "
   ]
  },
  {
   "cell_type": "markdown",
   "metadata": {},
   "source": [
    "5. Encuentra los primeros dos elementos de la tupla <code>genres_tuple</code>:"
   ]
  },
  {
   "cell_type": "code",
   "execution_count": 14,
   "metadata": {},
   "outputs": [
    {
     "data": {
      "text/plain": [
       "('pop', 'rock')"
      ]
     },
     "execution_count": 14,
     "metadata": {},
     "output_type": "execute_result"
    }
   ],
   "source": [
    "# Escribe abajo tu código y presiona Shift+Enter para ejecutarlo\n",
    "\n",
    "genres_tuple[0:2] #Imprimir los primeros valores de la tupla 'genres_tuple' del [0]...[2]"
   ]
  },
  {
   "cell_type": "markdown",
   "metadata": {},
   "source": [
    "6. Encuentra el primer índice de <code>\"disco\"</code>:"
   ]
  },
  {
   "cell_type": "code",
   "execution_count": 15,
   "metadata": {},
   "outputs": [
    {
     "name": "stdout",
     "output_type": "stream",
     "text": [
      "disco se encuentra en 7\n"
     ]
    }
   ],
   "source": [
    "# Escribe abajo tu código y presiona Shift+Enter para ejecutarlo\n",
    "\n",
    "index = genres_tuple.index(\"disco\") #Encuentra el indice donde se encuentra 'disco'\n",
    "print(f\"{genres_tuple[index]} se encuentra en {index}\")"
   ]
  },
  {
   "cell_type": "markdown",
   "metadata": {},
   "source": [
    "7. Genera una lista ordenada desde la tupla <code>C_tuple=(-5, 1, -3)</code>:"
   ]
  },
  {
   "cell_type": "code",
   "execution_count": 16,
   "metadata": {},
   "outputs": [
    {
     "data": {
      "text/plain": [
       "[-5, -3, 1]"
      ]
     },
     "execution_count": 16,
     "metadata": {},
     "output_type": "execute_result"
    }
   ],
   "source": [
    "# Escribe abajo tu código y presiona Shift+Enter para ejecutarlo\n",
    "\n",
    "C_tuple = (-5, 1, -3)\n",
    "C_list = sorted(C_tuple) #Usnado la función ordenar, organiza los números de mayor a menor\n",
    "C_list"
   ]
  }
 ],
 "metadata": {
  "kernelspec": {
   "display_name": "Python 3",
   "language": "python",
   "name": "python3"
  },
  "language_info": {
   "codemirror_mode": {
    "name": "ipython",
    "version": 3
   },
   "file_extension": ".py",
   "mimetype": "text/x-python",
   "name": "python",
   "nbconvert_exporter": "python",
   "pygments_lexer": "ipython3",
   "version": "3.11.2"
  }
 },
 "nbformat": 4,
 "nbformat_minor": 2
}
