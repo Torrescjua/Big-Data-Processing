{
 "cells": [
  {
   "cell_type": "markdown",
   "metadata": {},
   "source": [
    "# **Procesamiento de Datos a Gran Escala: Examen sobre Clases y Objetos en Python**\n",
    "\n",
    "### **ID del Estudiante:** 20485603\n",
    "  \n",
    "### **Autor:** _Juan D. Torres Chaparro B.Eng_  \n",
    "\n",
    "---"
   ]
  },
  {
   "cell_type": "markdown",
   "metadata": {},
   "source": [
    "## **Sección de Práctica del Examen**  \n",
    "\n",
    "Esta sección contiene una serie de preguntas de examen diseñadas para evaluar la comprensión de la programación orientada a objetos en Python. Cada pregunta está acompañada de una solución detallada y una explicación para garantizar que comprendas los conceptos de manera efectiva.\n",
    "\n",
    "### **Preguntas y Soluciones del Examen**  \n",
    "\n",
    "- **Definición y Creación de Clases**  \n",
    "  - Sintaxis de una clase en Python  \n",
    "  - Uso del método `__init__` y atributos  \n",
    "\n",
    "- **Instanciación y Uso de Objetos**  \n",
    "  - Creación de instancias de una clase  \n",
    "  - Acceso y modificación de atributos  \n",
    "\n",
    "- **Métodos dentro de una Clase**  \n",
    "  - Creación y uso de métodos  \n",
    "  - Aplicación de métodos sobre instancias de objetos  \n",
    "\n",
    "- **Manipulación de Objetos en Python**  \n",
    "  - Uso de métodos para modificar atributos  \n",
    "  - Representación visual de objetos mediante `matplotlib`\n",
    "    \n",
    "\n",
    "---"
   ]
  },
  {
   "cell_type": "markdown",
   "metadata": {},
   "source": [
    "## **Planeación de Exámen**"
   ]
  },
  {
   "cell_type": "markdown",
   "metadata": {},
   "source": []
  }
 ],
 "metadata": {
  "language_info": {
   "name": "python"
  }
 },
 "nbformat": 4,
 "nbformat_minor": 2
}
