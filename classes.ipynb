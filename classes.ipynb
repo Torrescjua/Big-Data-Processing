{
 "cells": [
  {
   "cell_type": "markdown",
   "metadata": {},
   "source": [
    "# **Procesamiento de Datos a Gran Escala: Examen sobre Clases y Objetos en Python**\n",
    "\n",
    "### **ID del Estudiante:** 20485603\n",
    "  \n",
    "### **Autor:** _Juan D. Torres Chaparro B.Eng_  \n",
    "\n",
    "---"
   ]
  },
  {
   "cell_type": "markdown",
   "metadata": {},
   "source": [
    "## **Sección de Práctica del Examen**  \n",
    "\n",
    "Esta sección contiene una serie de preguntas de examen diseñadas para evaluar la comprensión de la programación orientada a objetos en Python. Cada pregunta está acompañada de una solución detallada y una explicación para garantizar que comprendas los conceptos de manera efectiva.\n",
    "\n",
    "### **Preguntas y Soluciones del Examen**  \n",
    "\n",
    "- **Definición y Creación de Clases**  \n",
    "  - Sintaxis de una clase en Python  \n",
    "  - Uso del método `__init__` y atributos  \n",
    "\n",
    "- **Instanciación y Uso de Objetos**  \n",
    "  - Creación de instancias de una clase  \n",
    "  - Acceso y modificación de atributos  \n",
    "\n",
    "- **Métodos dentro de una Clase**  \n",
    "  - Creación y uso de métodos  \n",
    "  - Aplicación de métodos sobre instancias de objetos  \n",
    "\n",
    "- **Manipulación de Objetos en Python**  \n",
    "  - Uso de métodos para modificar atributos  \n",
    "  - Representación visual de objetos mediante `matplotlib`\n",
    "    \n",
    "\n",
    "---"
   ]
  },
  {
   "cell_type": "markdown",
   "metadata": {},
   "source": [
    "## **Planeación de Exámen**"
   ]
  },
  {
   "cell_type": "markdown",
   "metadata": {},
   "source": [
    "1. Crea una clase Vehiculo con los siguientes atributos:\n",
    "\n",
    "    + marca (cadena de texto)\n",
    "    + modelo (cadena de texto)\n",
    "    + año (entero)\n",
    "    + color (cadena de texto con valor por defecto \"blanco\")"
   ]
  },
  {
   "cell_type": "code",
   "execution_count": 2,
   "metadata": {},
   "outputs": [],
   "source": [
    "class Vehiculo:\n",
    "    def __init__(self, marca, modelo, año, color=\"blanco\"):\n",
    "        self.marca = marca\n",
    "        self.modelo = modelo\n",
    "        self.año = año\n",
    "        self.color = color\n",
    "\n",
    "    def descripcion(self):\n",
    "        return f\"Vehículo {self.marca} {self.modelo}, Año: {self.año}, Color: {self.color}\"\n"
   ]
  },
  {
   "cell_type": "markdown",
   "metadata": {},
   "source": [
    "2. Crea una instancia de la clase Vehiculo llamada auto1 con los siguientes valores:\n",
    "\n",
    "    + marca = \"Toyota\"\n",
    "    + modelo = \"Corolla\"\n",
    "    + año = 2020\n",
    "    + color = \"rojo\""
   ]
  },
  {
   "cell_type": "code",
   "execution_count": 3,
   "metadata": {},
   "outputs": [
    {
     "name": "stdout",
     "output_type": "stream",
     "text": [
      "Vehículo Toyota Corolla, Año: 2020, Color: rojo\n",
      "Vehículo Toyota Corolla, Año: 2020, Color: negro\n"
     ]
    }
   ],
   "source": [
    "# Crear instancia\n",
    "auto1 = Vehiculo(\"Toyota\", \"Corolla\", 2020, \"rojo\")\n",
    "print(auto1.descripcion())\n",
    "\n",
    "# Modificar el color\n",
    "auto1.color = \"negro\"\n",
    "print(auto1.descripcion())\n"
   ]
  },
  {
   "cell_type": "markdown",
   "metadata": {},
   "source": [
    "3. Modifica la clase <code>Vehiculo</code> para incluir un método <code>edad_vehiculo(anio_actual)</code>, que devuelva la edad del vehículo en base al año actual."
   ]
  },
  {
   "cell_type": "code",
   "execution_count": 4,
   "metadata": {},
   "outputs": [],
   "source": [
    "class Vehiculo:\n",
    "    def __init__(self, marca, modelo, año, color=\"blanco\"):\n",
    "        self.marca = marca\n",
    "        self.modelo = modelo\n",
    "        self.año = año\n",
    "        self.color = color\n",
    "\n",
    "    def descripcion(self):\n",
    "        return f\"Vehículo {self.marca} {self.modelo}, Año: {self.año}, Color: {self.color}\"\n",
    "\n",
    "    def edad_vehiculo(self, anio_actual):\n",
    "        return anio_actual - self.año\n"
   ]
  },
  {
   "cell_type": "markdown",
   "metadata": {},
   "source": [
    "3.1. Prueba el método con un vehículo del 2015 y el año actual 2024."
   ]
  },
  {
   "cell_type": "code",
   "execution_count": 5,
   "metadata": {},
   "outputs": [
    {
     "name": "stdout",
     "output_type": "stream",
     "text": [
      "La edad del vehículo es: 9 años\n"
     ]
    }
   ],
   "source": [
    "auto2 = Vehiculo(\"Honda\", \"Civic\", 2015, \"gris\")\n",
    "print(f\"La edad del vehículo es: {auto2.edad_vehiculo(2024)} años\")"
   ]
  },
  {
   "cell_type": "markdown",
   "metadata": {},
   "source": [
    "4. Crea una clase Circulo que tenga los atributos:\n",
    "\n",
    "    + radio\n",
    "    + color (por defecto \"blue\")"
   ]
  },
  {
   "cell_type": "code",
   "execution_count": 6,
   "metadata": {},
   "outputs": [],
   "source": [
    "import matplotlib.pyplot as plt\n",
    "\n",
    "class Circulo:\n",
    "    def __init__(self, radio, color=\"blue\"):\n",
    "        self.radio = radio\n",
    "        self.color = color\n",
    "\n",
    "    def dibujar(self):\n",
    "        fig, ax = plt.subplots()\n",
    "        ax.add_patch(plt.Circle((0, 0), self.radio, color=self.color))\n",
    "        ax.set_xlim(-self.radio - 1, self.radio + 1)\n",
    "        ax.set_ylim(-self.radio - 1, self.radio + 1)\n",
    "        ax.set_aspect(1)\n",
    "        plt.show()"
   ]
  },
  {
   "cell_type": "markdown",
   "metadata": {},
   "source": [
    "4.1. Crea un círculo de radio 5 y color \"red\", y gráficalo."
   ]
  },
  {
   "cell_type": "code",
   "execution_count": 8,
   "metadata": {},
   "outputs": [
    {
     "data": {
      "image/png": "[encoded data removed]",
      "text/plain": [
       "<Figure size 640x480 with 1 Axes>"
      ]
     },
     "metadata": {},
     "output_type": "display_data"
    }
   ],
   "source": [
    "circulo1 = Circulo(5, \"blue\")\n",
    "circulo1.dibujar()"
   ]
  }
 ],
 "metadata": {
  "kernelspec": {
   "display_name": "Python 3",
   "language": "python",
   "name": "python3"
  },
  "language_info": {
   "codemirror_mode": {
    "name": "ipython",
    "version": 3
   },
   "file_extension": ".py",
   "mimetype": "text/x-python",
   "name": "python",
   "nbconvert_exporter": "python",
   "pygments_lexer": "ipython3",
   "version": "3.11.2"
  }
 },
 "nbformat": 4,
 "nbformat_minor": 2
}
