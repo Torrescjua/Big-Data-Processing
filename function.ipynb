{
 "cells": [
  {
   "cell_type": "markdown",
   "metadata": {},
   "source": [
    "# **Procesamiento de Datos a Gran Escala: Examen sobre Funciones en Python**\n",
    "\n",
    "### **ID del Estudiante:** 20485603\n",
    "  \n",
    "### **Autor:** _Juan D. Torres Chaparro B.Eng_\n",
    "\n",
    "---"
   ]
  },
  {
   "cell_type": "markdown",
   "metadata": {},
   "source": [
    "\n",
    "## **Sección de Práctica del Examen**  \n",
    "\n",
    "Esta sección contiene una serie de preguntas de examen diseñadas para evaluar la comprensión de las funciones en Python. Cada pregunta está acompañada de una solución detallada y una explicación para garantizar que comprendas los conceptos de manera efectiva.\n",
    "\n",
    "### **Preguntas y Soluciones del Examen**  \n",
    "\n",
    "- **Definición y Uso de Funciones**  \n",
    "  - Creación de funciones personalizadas  \n",
    "  - Uso de parámetros y valores de retorno  \n",
    "\n",
    "- **Operaciones con Funciones**  \n",
    "  - Llamado de funciones con diferentes entradas  \n",
    "  - Uso de funciones para operar con distintos tipos de datos  \n",
    "\n",
    "- **Variables dentro de Funciones**  \n",
    "  - Diferencia entre variables locales y globales  \n",
    "  - Alcance de variables dentro y fuera de funciones  \n",
    "\n",
    "- **Estructuras de Control dentro de Funciones**  \n",
    "  - Uso de `if`, `else` y bucles en funciones  \n",
    "  - Implementación de lógica condicional  \n",
    "\n",
    "---"
   ]
  },
  {
   "cell_type": "markdown",
   "metadata": {},
   "source": [
    "## **Solución de Exámen**"
   ]
  },
  {
   "cell_type": "markdown",
   "metadata": {},
   "source": [
    "1. Cree una función que divida la primera entrada por la segunda entrada:"
   ]
  },
  {
   "cell_type": "code",
   "execution_count": 1,
   "metadata": {},
   "outputs": [
    {
     "data": {
      "text/plain": [
       "0.5"
      ]
     },
     "execution_count": 1,
     "metadata": {},
     "output_type": "execute_result"
    }
   ],
   "source": [
    "# Escribe abajo tu código y presiona Shift+Enter para ejecutarlo\n",
    "\n",
    "def div(a=2, b=4):\n",
    "    return(a/b)\n",
    "\n",
    "div()"
   ]
  },
  {
   "cell_type": "markdown",
   "metadata": {},
   "source": [
    "Utilice la función <code>con</code> para la siguiente pregunta. </br>2. ¿Se puede usar la función <code> con </code> que definimos antes para agregar números enteros o cadenas?"
   ]
  },
  {
   "cell_type": "code",
   "execution_count": 12,
   "metadata": {},
   "outputs": [
    {
     "name": "stdout",
     "output_type": "stream",
     "text": [
      "Ejemplo concatenación: hola mundo\n",
      "Ejemplo operacional: 3\n"
     ]
    }
   ],
   "source": [
    "# Usa la función con para la siguiente pregunta\n",
    "\n",
    "def con(a, b):\n",
    "    return(a + b)\n",
    "\n",
    "# Se puede utilizar para ambos casos, tanto para concatenar texto:\n",
    "text = con(\"hola \",\"mundo\")\n",
    "print(f\"Ejemplo concatenación: {text}\")\n",
    "\n",
    "# Como para hacer operaciones entre números\n",
    "num = con(1,2)\n",
    "print(f\"Ejemplo operacional: {num}\")\n"
   ]
  },
  {
   "cell_type": "markdown",
   "metadata": {},
   "source": [
    "3. ¿Se puede usar la función <code> con </code> que definimos antes para concentrar una lista o tupla?"
   ]
  },
  {
   "cell_type": "code",
   "execution_count": 15,
   "metadata": {},
   "outputs": [
    {
     "name": "stdout",
     "output_type": "stream",
     "text": [
      "Ejemplo listas: [1, 2, 3, 4, 5, 6]\n",
      "Ejemplo tuplas: (1, 2, 3, 4, 5, 6)\n"
     ]
    }
   ],
   "source": [
    "# Escribe abajo tu código y presiona Shift+Enter para ejecutarlo\n",
    "\n",
    "# Se puede utilizar para ambos casos, tanto para concatenar listas:\n",
    "lst = con([1,2,3],[4,5,6])\n",
    "print(f\"Ejemplo listas: {lst}\")\n",
    "\n",
    "# Como para concatenar tuplas\n",
    "tp = con((1,2,3),(4,5,6))\n",
    "print(f\"Ejemplo tuplas: {tp}\")"
   ]
  }
 ],
 "metadata": {
  "kernelspec": {
   "display_name": "Python 3",
   "language": "python",
   "name": "python3"
  },
  "language_info": {
   "codemirror_mode": {
    "name": "ipython",
    "version": 3
   },
   "file_extension": ".py",
   "mimetype": "text/x-python",
   "name": "python",
   "nbconvert_exporter": "python",
   "pygments_lexer": "ipython3",
   "version": "3.11.2"
  }
 },
 "nbformat": 4,
 "nbformat_minor": 2
}
